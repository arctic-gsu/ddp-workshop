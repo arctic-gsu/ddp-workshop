{
 "cells": [
  {
   "cell_type": "markdown",
   "id": "fccbe75c-ec28-4f5e-93c8-c42948b433a4",
   "metadata": {},
   "source": [
    "Follow this link:\n",
    "https://arcwiki.rs.gsu.edu/en/python/creating-a-venv"
   ]
  }
 ],
 "metadata": {
  "kernelspec": {
   "display_name": "Python 3 (ipykernel)",
   "language": "python",
   "name": "python3"
  },
  "language_info": {
   "codemirror_mode": {
    "name": "ipython",
    "version": 3
   },
   "file_extension": ".py",
   "mimetype": "text/x-python",
   "name": "python",
   "nbconvert_exporter": "python",
   "pygments_lexer": "ipython3",
   "version": "3.9.12"
  }
 },
 "nbformat": 4,
 "nbformat_minor": 5
}
